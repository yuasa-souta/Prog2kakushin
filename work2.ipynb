{
  "cells": [
    {
      "cell_type": "markdown",
      "metadata": {
        "id": "view-in-github",
        "colab_type": "text"
      },
      "source": [
        "<a href=\"https://colab.research.google.com/github/yuasa-souta/Prog2kakushin/blob/main/work2.ipynb\" target=\"_parent\"><img src=\"https://colab.research.google.com/assets/colab-badge.svg\" alt=\"Open In Colab\"/></a>"
      ]
    },
    {
      "cell_type": "code",
      "execution_count": 12,
      "metadata": {
        "id": "QzoUgAdXFHQI"
      },
      "outputs": [],
      "source": [
        "import numpy as np\n",
        "import matplotlib.pyplot as plt\n",
        "from matplotlib.colors import LinearSegmentedColormap as pltc\n",
        "import random"
      ]
    },
    {
      "cell_type": "code",
      "source": [
        "gameBoard = [0,1,2,3,4,5,6,7,8] # ゲームに利用する盤面\n",
        "winer = ['drow','win','lose']\n",
        "g = 0\n",
        "# 盤面を3x3で表示する\n",
        "def displayBoard():\n",
        "    # gameBoardの要素を1つずつ表示\n",
        "    for i in range(0, len(gameBoard)):\n",
        "        if(i%3 == 2): # 3回に1回は改行\n",
        "            if gameBoard[i] == -1:\n",
        "              print('o')\n",
        "            elif gameBoard[i] == -2:\n",
        "              print('x')\n",
        "            else:\n",
        "              print(gameBoard[i]) # 改行する\n",
        "        else :\n",
        "            if gameBoard[i] == -1:\n",
        "              print('o', end=\"\")\n",
        "            elif gameBoard[i] == -2:\n",
        "              print('x', end=\"\")\n",
        "            else:\n",
        "              print(gameBoard[i], end=\"\") # 改行しない\n",
        "\n",
        "# ターンを進める\n",
        "def inputBoard(playerType):\n",
        "    # 1.座標を入力させる\n",
        "    if(playerType == -1):  # o が渡されたら座標を入力\n",
        "        tgt = int(input(\"0~8の座標を入れてください: \"))\n",
        "    else: # xが渡されたらランダムで座標を入力\n",
        "        tgt = random.randint(0,8)\n",
        "\n",
        "    # 2.入力座標に 'o'か 'x' が入っていないことを確認\n",
        "    if(gameBoard[tgt] == -1 or gameBoard[tgt] == -2):\n",
        "        inputBoard(playerType)\n",
        "\n",
        "    # 3.gameBoardに反映\n",
        "    else:\n",
        "        gameBoard[tgt] = playerType\n",
        "def judge():\n",
        "  if gameBoard[0] == gameBoard[1] == gameBoard[2] or gameBoard[3] == gameBoard[4] == gameBoard[5] or gameBoard[6] == gameBoard[7] == gameBoard[8] or gameBoard[0] == gameBoard[3] == gameBoard[6] or gameBoard[1] == gameBoard[4] == gameBoard[7] or gameBoard[2] == gameBoard[5] == gameBoard[8] or gameBoard[0] == gameBoard[4] == gameBoard[8] or gameBoard[2] == gameBoard[4] == gameBoard[6] == '-1':\n",
        "    return 1\n",
        "  elif gameBoard[0] == gameBoard[1] == gameBoard[2] or gameBoard[3] == gameBoard[4] == gameBoard[5] or gameBoard[6] == gameBoard[7] == gameBoard[8] or gameBoard[0] == gameBoard[3] == gameBoard[6] or gameBoard[1] == gameBoard[4] == gameBoard[7] or gameBoard[2] == gameBoard[5] == gameBoard[8] or gameBoard[0] == gameBoard[4] == gameBoard[8] or gameBoard[2] == gameBoard[4] == gameBoard[6] == '-2':\n",
        "    return 2\n",
        "  return 0\n",
        "def check():\n",
        "  ch = np.where(np.array(gameBoard) < 0, 0, 1)\n",
        "  print(ch)\n",
        "  if ch.sum() == 0:\n",
        "    return 1\n",
        "  return 0\n",
        "\n",
        "\n",
        "# ゲームの進行\n",
        "\n",
        "displayBoard()\n",
        "while True:\n",
        "  inputBoard(-1) # ユーザーのターン\n",
        "  displayBoard()\n",
        "  g = judge()\n",
        "  if check() == 1:\n",
        "    print(winer[int(g)])\n",
        "    break\n",
        "  print('=====')\n",
        "  inputBoard(-2) # CPUのターン\n",
        "  displayBoard()\n",
        "  g = judge()\n",
        "  if g != 0:\n",
        "    print(winer[int(g)])\n",
        "    break\n",
        "\n"
      ],
      "metadata": {
        "id": "cHn-BbtXYJet",
        "colab": {
          "base_uri": "https://localhost:8080/"
        },
        "outputId": "358c04ac-bd3e-4b69-9649-b6650067134c"
      },
      "execution_count": 17,
      "outputs": [
        {
          "output_type": "stream",
          "name": "stdout",
          "text": [
            "012\n",
            "345\n",
            "678\n",
            "0~8の座標を入れてください: 0\n",
            "o12\n",
            "345\n",
            "678\n",
            "[0 1 1 1 1 1 1 1 1]\n",
            "=====\n",
            "o1x\n",
            "345\n",
            "678\n",
            "0~8の座標を入れてください: 1\n",
            "oox\n",
            "345\n",
            "678\n",
            "[0 0 0 1 1 1 1 1 1]\n",
            "=====\n",
            "oox\n",
            "x45\n",
            "678\n",
            "0~8の座標を入れてください: 6\n",
            "oox\n",
            "x45\n",
            "o78\n",
            "[0 0 0 0 1 1 0 1 1]\n",
            "=====\n",
            "oox\n",
            "x45\n",
            "ox8\n",
            "0~8の座標を入れてください: 5\n",
            "oox\n",
            "x4o\n",
            "ox8\n",
            "[0 0 0 0 1 0 0 0 1]\n",
            "=====\n",
            "oox\n",
            "xxo\n",
            "ox8\n",
            "0~8の座標を入れてください: 8\n",
            "oox\n",
            "xxo\n",
            "oxo\n",
            "[0 0 0 0 0 0 0 0 0]\n",
            "drow\n"
          ]
        }
      ]
    },
    {
      "cell_type": "markdown",
      "metadata": {
        "id": "AEXas-FX31Jf"
      },
      "source": [
        "sample code\n",
        "https://qiita.com/yuji96/items/bfae04a043d35260ffb1"
      ]
    },
    {
      "cell_type": "code",
      "execution_count": null,
      "metadata": {
        "colab": {
          "base_uri": "https://localhost:8080/",
          "height": 1000
        },
        "id": "a1yZlfkfyuWD",
        "outputId": "8d559961-afb1-4d82-a791-f2951bc3d14d"
      },
      "outputs": [
        {
          "data": {
            "image/png": "[encoded data removed]",
            "text/plain": [
              "<Figure size 640x480 with 1 Axes>"
            ]
          },
          "metadata": {},
          "output_type": "display_data"
        },
        {
          "name": "stdout",
          "output_type": "stream",
          "text": [
            "[[False False False False False False False False False False False False\n",
            "  False False False]\n",
            " [False False False False False False False False False False False False\n",
            "  False False False]\n",
            " [False False False False False False False  True  True  True  True False\n",
            "  False False False]\n",
            " [False False False  True  True False  True False False False False  True\n",
            "  False False False]\n",
            " [False False  True False False False  True False False False False  True\n",
            "  False False False]\n",
            " [False False  True False False False False  True  True False False False\n",
            "  False False False]\n",
            " [False False  True False False  True False False False False  True  True\n",
            "  False False False]\n",
            " [False False  True False False  True False False False  True False False\n",
            "   True False False]\n",
            " [False False False  True  True False False False False  True False False\n",
            "   True False False]\n",
            " [False False False False False False  True  True False False False False\n",
            "   True False False]\n",
            " [False False False  True False False False False  True False False False\n",
            "   True False False]\n",
            " [False False False  True False False False False  True False  True  True\n",
            "  False False False]\n",
            " [False False False False  True  True  True  True False False False False\n",
            "  False False False]\n",
            " [False False False False False False False False False False False False\n",
            "  False False False]\n",
            " [False False False False False False False False False False False False\n",
            "  False False False]]\n"
          ]
        },
        {
          "data": {
            "image/png": "[encoded data removed]",
            "text/plain": [
              "<Figure size 640x480 with 1 Axes>"
            ]
          },
          "metadata": {},
          "output_type": "display_data"
        },
        {
          "name": "stdout",
          "output_type": "stream",
          "text": [
            "[[False False False False False False False False False False False False\n",
            "  False False False]\n",
            " [False False False False False False False False  True  True False False\n",
            "  False False False]\n",
            " [False False False False False False False  True  True  True  True False\n",
            "  False False False]\n",
            " [False False False  True False  True  True False  True  True False  True\n",
            "  False False False]\n",
            " [False False  True False False  True  True False False False False False\n",
            "  False False False]\n",
            " [False  True  True  True False False  True  True False False  True  True\n",
            "  False False False]\n",
            " [False  True  True  True False False  True False  True  True  True  True\n",
            "  False False False]\n",
            " [False False  True False False  True False False False  True False False\n",
            "   True False False]\n",
            " [False False False  True  True  True  True False  True False False  True\n",
            "   True  True False]\n",
            " [False False False  True  True False False  True  True False False  True\n",
            "   True  True False]\n",
            " [False False False False False False False False  True  True False False\n",
            "   True False False]\n",
            " [False False False  True False  True  True False  True  True False  True\n",
            "  False False False]\n",
            " [False False False False  True  True  True  True False False False False\n",
            "  False False False]\n",
            " [False False False False False  True  True False False False False False\n",
            "  False False False]\n",
            " [False False False False False False False False False False False False\n",
            "  False False False]]\n"
          ]
        },
        {
          "data": {
            "image/png": "[encoded data removed]",
            "text/plain": [
              "<Figure size 640x480 with 1 Axes>"
            ]
          },
          "metadata": {},
          "output_type": "display_data"
        },
        {
          "name": "stdout",
          "output_type": "stream",
          "text": [
            "[[False False False False False False False False False False False False\n",
            "  False False False]\n",
            " [False False False False False False False  True False False  True False\n",
            "  False False False]\n",
            " [False False False False False False  True False False False False False\n",
            "  False False False]\n",
            " [False False False False  True  True False False False False False False\n",
            "  False False False]\n",
            " [False  True False False False False False False  True  True False  True\n",
            "  False False False]\n",
            " [False False False False  True False False False  True False False  True\n",
            "  False False False]\n",
            " [False False False False  True  True  True False  True False False False\n",
            "   True False False]\n",
            " [False  True False False False False False False False False False False\n",
            "  False  True False]\n",
            " [False False  True False False False  True False  True  True  True False\n",
            "  False False False]\n",
            " [False False False  True False False  True False False False  True False\n",
            "  False False False]\n",
            " [False False False  True False  True  True False False False False False\n",
            "  False  True False]\n",
            " [False False False False False False False False False  True  True False\n",
            "  False False False]\n",
            " [False False False False False False False False  True False False False\n",
            "  False False False]\n",
            " [False False False False  True False False  True False False False False\n",
            "  False False False]\n",
            " [False False False False False False False False False False False False\n",
            "  False False False]]\n"
          ]
        },
        {
          "data": {
            "image/png": "[encoded data removed]",
            "text/plain": [
              "<Figure size 640x480 with 1 Axes>"
            ]
          },
          "metadata": {},
          "output_type": "display_data"
        }
      ],
      "source": [
        "import matplotlib.pyplot as plt\n",
        "import numpy as np\n",
        "from matplotlib.colors import LinearSegmentedColormap\n",
        "\n",
        "\n",
        "n = 15\n",
        "\n",
        "cells = np.zeros([n, n], dtype=bool)\n",
        "\n",
        "# 銀河\n",
        "cells[3:9, 3:5] = True\n",
        "cells[3:5, 6:12] = True\n",
        "cells[-5:-3, 3:9] = True\n",
        "cells[6:12, -5:-3] = True\n",
        "\n",
        "# ランダム\n",
        "# cells = np.random.randint(0, 2, (n, n), dtype=bool)\n",
        "\n",
        "\n",
        "def update(old):\n",
        "\n",
        "    @np.vectorize\n",
        "    def sum_around(i, j):\n",
        "        return cells[max(0, i-1):i+2, max(0, j-1):j+2].sum() - cells[i, j]\n",
        "\n",
        "    around = np.fromfunction(sum_around, old.shape, dtype=int)\n",
        "    new = np.where(old , ((2 <= around) & (around <= 3)), (around == 3))\n",
        "    return new\n",
        "\n",
        "\n",
        "colors = ['green', 'red']\n",
        "xmas = LinearSegmentedColormap.from_list('xmas', colors)\n",
        "norm = plt.Normalize(0, 1)\n",
        "\n",
        "plt.tick_params(labelbottom=False, labelleft=False,\n",
        "                bottom=False, left=False)\n",
        "\n",
        "for i in range(3):\n",
        "#while True:\n",
        "    cells = update(cells)\n",
        "\n",
        "    plt.imshow(cells, cmap=xmas, norm=norm)\n",
        "    plt.pause(.01)\n",
        "    plt.cla()\n",
        "    print(cells)\n"
      ]
    }
  ],
  "metadata": {
    "colab": {
      "provenance": [],
      "authorship_tag": "ABX9TyNWfrBoYVv99giLkhRfj6dv",
      "include_colab_link": true
    },
    "kernelspec": {
      "display_name": "Python 3",
      "name": "python3"
    },
    "language_info": {
      "name": "python"
    }
  },
  "nbformat": 4,
  "nbformat_minor": 0
}